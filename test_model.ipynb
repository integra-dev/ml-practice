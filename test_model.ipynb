{
 "cells": [
  {
   "cell_type": "code",
   "execution_count": 18,
   "metadata": {},
   "outputs": [],
   "source": [
    "import sklearn\n",
    "import pandas as pd\n",
    "import numpy as np\n",
    "import csv\n",
    "\n",
    "%matplotlib inline\n",
    "import matplotlib.pyplot as plt"
   ]
  },
  {
   "cell_type": "code",
   "execution_count": 22,
   "metadata": {},
   "outputs": [
    {
     "name": "stdout",
     "output_type": "stream",
     "text": [
      "Collecting IMDbPY\n",
      "  Downloading https://files.pythonhosted.org/packages/70/87/928f9b8752dfafe8093488e03bd5d04b5dc260902f409303b0891cec86ef/IMDbPY-6.8-py3-none-any.whl (295kB)\n",
      "Collecting lxml\n",
      "  Downloading https://files.pythonhosted.org/packages/d9/36/e79b8e112fb63b04b72724954ae5519e740982bec84f66e5eb4a353906ef/lxml-4.5.0-cp37-cp37m-win_amd64.whl (3.7MB)\n",
      "Collecting SQLAlchemy\n",
      "  Downloading https://files.pythonhosted.org/packages/af/47/35edeb0f86c0b44934c05d961c893e223ef27e79e1f53b5e6f14820ff553/SQLAlchemy-1.3.13.tar.gz (6.0MB)\n",
      "Building wheels for collected packages: SQLAlchemy\n",
      "  Building wheel for SQLAlchemy (setup.py): started\n",
      "  Building wheel for SQLAlchemy (setup.py): finished with status 'done'\n",
      "  Created wheel for SQLAlchemy: filename=SQLAlchemy-1.3.13-cp37-cp37m-win_amd64.whl size=1171670 sha256=3d2d3d74a812bdabcad2d51dfed4d8e55d7ebf8e390b01a8f955939b60c72e7b\n",
      "  Stored in directory: C:\\Users\\ildar\\AppData\\Local\\pip\\Cache\\wheels\\b3\\35\\98\\4c9cb3fd63d21d5606b972dd70643769745adf60e622467b71\n",
      "Successfully built SQLAlchemy\n",
      "Installing collected packages: lxml, SQLAlchemy, IMDbPY\n",
      "Successfully installed IMDbPY-6.8 SQLAlchemy-1.3.13 lxml-4.5.0\n"
     ]
    }
   ],
   "source": [
    "# first we should install imdb api data if not installed\n",
    "# !pip install IMDbPY"
   ]
  },
  {
   "cell_type": "code",
   "execution_count": 37,
   "metadata": {},
   "outputs": [
    {
     "name": "stdout",
     "output_type": "stream",
     "text": [
      "Movie\n",
      "TV Show\n"
     ]
    }
   ],
   "source": [
    "df = pd.read_csv('netflix_titles.csv')\n",
    "for i in set(df.type):\n",
    "    print(i)"
   ]
  },
  {
   "cell_type": "code",
   "execution_count": 34,
   "metadata": {},
   "outputs": [
    {
     "data": {
      "text/plain": [
       "'Before planning an awesome wedding for his grandfather, a polar bear king must take back a stolen artifact from an evil archaeologist first.'"
      ]
     },
     "execution_count": 34,
     "metadata": {},
     "output_type": "execute_result"
    }
   ],
   "source": [
    "df.description[0]"
   ]
  },
  {
   "cell_type": "code",
   "execution_count": 58,
   "metadata": {},
   "outputs": [
    {
     "name": "stdout",
     "output_type": "stream",
     "text": [
      "Movie\n",
      "TV Show\n"
     ]
    }
   ],
   "source": [
    "\n",
    "def collect_statistics_by_type():\n",
    "    types = {}\n",
    "    for t in set(df.type):\n",
    "        print(t)\n",
    "        types.update({t: len(df[df.type == t])})\n",
    "    return types\n",
    "stat_by_type = collect_statistics_by_type()"
   ]
  },
  {
   "cell_type": "code",
   "execution_count": 62,
   "metadata": {},
   "outputs": [
    {
     "data": {
      "image/png": "[encoded data removed]",
      "text/plain": [
       "<Figure size 864x360 with 1 Axes>"
      ]
     },
     "metadata": {},
     "output_type": "display_data"
    }
   ],
   "source": [
    "plt.figure(figsize=(12, 5))\n",
    "plt.pie(stat_by_type.values(), explode=(0, 0.2), labels=stat_by_type.keys(), autopct='%1.1f%%',\n",
    "        shadow=True, startangle=90)\n",
    "plt.axis('equal')\n",
    "plt.show()"
   ]
  },
  {
   "cell_type": "code",
   "execution_count": null,
   "metadata": {},
   "outputs": [],
   "source": []
  },
  {
   "cell_type": "code",
   "execution_count": null,
   "metadata": {},
   "outputs": [],
   "source": []
  }
 ],
 "metadata": {
  "kernelspec": {
   "display_name": "Python 3",
   "language": "python",
   "name": "python3"
  },
  "language_info": {
   "codemirror_mode": {
    "name": "ipython",
    "version": 3
   },
   "file_extension": ".py",
   "mimetype": "text/x-python",
   "name": "python",
   "nbconvert_exporter": "python",
   "pygments_lexer": "ipython3",
   "version": "3.7.4"
  }
 },
 "nbformat": 4,
 "nbformat_minor": 2
}
